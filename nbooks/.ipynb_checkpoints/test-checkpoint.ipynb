{
 "cells": [
  {
   "cell_type": "code",
   "execution_count": 18,
   "metadata": {},
   "outputs": [],
   "source": [
    "import os\n",
    "import sys\n",
    "import yaml\n",
    "\n",
    "import casatools\n",
    "\n",
    "sys.path.append(os.getcwd() + \"/../\")\n"
   ]
  },
  {
   "cell_type": "code",
   "execution_count": 19,
   "metadata": {},
   "outputs": [],
   "source": [
    "# read yaml configuration file\n",
    "with open(\"../input/config.yaml\", \"r\") as file:\n",
    "    conf = yaml.safe_load(file)"
   ]
  },
  {
   "cell_type": "code",
   "execution_count": 20,
   "metadata": {},
   "outputs": [
    {
     "name": "stderr",
     "output_type": "stream",
     "text": [
      "2023-02-16 05:42:15\tINFO\tmsmetadata_cmpt.cc::open\tPerforming internal consistency checks on ../../19A-056.sb37262953.eb37267948.58744.511782789355/19A-056.sb37262953.eb37267948.58744.511782789355.ms...\n",
      "2023-02-16 05:42:16\tINFO\tmsmetadata_cmpt.cc::open\tPerforming internal consistency checks on ../../19A-056.sb37163380.eb37257903.58741.80710626158/19A-056.sb37163380.eb37257903.58741.80710626158.ms...\n",
      "2023-02-16 05:42:18\tINFO\tmsmetadata_cmpt.cc::open\tPerforming internal consistency checks on ../../19A-056.sb37231614.eb37257802.58740.9750600463/19A-056.sb37231614.eb37257802.58740.9750600463.ms...\n",
      "2023-02-16 05:42:19\tINFO\tmsmetadata_cmpt.cc::open\tPerforming internal consistency checks on ../../19A-056.sb37061537.eb37180589.58730.4308771875/19A-056.sb37061537.eb37180589.58730.4308771875.ms...\n",
      "2023-02-16 05:42:21\tINFO\tmsmetadata_cmpt.cc::open\tPerforming internal consistency checks on ../../19A-056.sb37231384.eb37240353.58739.626953125/19A-056.sb37231384.eb37240353.58739.626953125.ms...\n",
      "2023-02-16 05:42:24\tINFO\tmsmetadata_cmpt.cc::open\tPerforming internal consistency checks on ../../19A-056.sb37160606.eb37213019.58734.43735733796/19A-056.sb37160606.eb37213019.58734.43735733796.ms...\n",
      "2023-02-16 05:42:26\tINFO\tmsmetadata_cmpt.cc::open\tPerforming internal consistency checks on ../../19A-056.sb37160244.eb37257497.58740.25152430555/19A-056.sb37160244.eb37257497.58740.25152430555.ms...\n"
     ]
    }
   ],
   "source": [
    "for obs in conf[\"obs list\"]:\n",
    "    ms = f\"../../{obs}/{obs}.ms\"\n",
    "\n",
    "    msmd = casatools.msmetadata()\n",
    "\n",
    "    msmd.open(ms)\n",
    "    field = msmd.fieldsforintent(\"CALIBRATE_FLUX#UNSPECIFIED\")\n",
    "    print(msmd.namesforfields(field))\n"
   ]
  },
  {
   "cell_type": "code",
   "execution_count": 4,
   "metadata": {},
   "outputs": [
    {
     "name": "stdout",
     "output_type": "stream",
     "text": [
      "2019-09-18T12:16:58.700 2019-09-18T12:53:30.250 2019-09-01T03:13:25.000 2019-09-01T06:44:52.000\n"
     ]
    }
   ],
   "source": []
  },
  {
   "cell_type": "code",
   "execution_count": 6,
   "metadata": {},
   "outputs": [
    {
     "name": "stdout",
     "output_type": "stream",
     "text": [
      "{'1': {'0': {'fluxd': array([-1., -1., -1., -1.]), 'fluxdErr': array([-1., -1., -1., -1.]), 'numSol': array([-1., -1., -1., -1.])}, '1': {'fluxd': array([-1., -1., -1., -1.]), 'fluxdErr': array([-1., -1., -1., -1.]), 'numSol': array([-1., -1., -1., -1.])}, '10': {'fluxd': array([1.18184374, 0.        , 0.        , 0.        ]), 'fluxdErr': array([0.00876112, 0.        , 0.        , 0.        ]), 'numSol': array([50.,  0.,  0.,  0.])}, '11': {'fluxd': array([1.21055569, 0.        , 0.        , 0.        ]), 'fluxdErr': array([0.00904217, 0.        , 0.        , 0.        ]), 'numSol': array([48.,  0.,  0.,  0.])}, '12': {'fluxd': array([1.24225197, 0.        , 0.        , 0.        ]), 'fluxdErr': array([0.00902407, 0.        , 0.        , 0.        ]), 'numSol': array([50.,  0.,  0.,  0.])}, '13': {'fluxd': array([1.26836205, 0.        , 0.        , 0.        ]), 'fluxdErr': array([0.00992132, 0.        , 0.        , 0.        ]), 'numSol': array([50.,  0.,  0.,  0.])}, '14': {'fluxd': array([1.27585122, 0.        , 0.        , 0.        ]), 'fluxdErr': array([0.01018012, 0.        , 0.        , 0.        ]), 'numSol': array([50.,  0.,  0.,  0.])}, '15': {'fluxd': array([1.30814373, 0.        , 0.        , 0.        ]), 'fluxdErr': array([0.01160235, 0.        , 0.        , 0.        ]), 'numSol': array([50.,  0.,  0.,  0.])}, '2': {'fluxd': array([-1., -1., -1., -1.]), 'fluxdErr': array([-1., -1., -1., -1.]), 'numSol': array([-1., -1., -1., -1.])}, '3': {'fluxd': array([-1., -1., -1., -1.]), 'fluxdErr': array([-1., -1., -1., -1.]), 'numSol': array([-1., -1., -1., -1.])}, '4': {'fluxd': array([-1., -1., -1., -1.]), 'fluxdErr': array([-1., -1., -1., -1.]), 'numSol': array([-1., -1., -1., -1.])}, '5': {'fluxd': array([1.05402096, 0.        , 0.        , 0.        ]), 'fluxdErr': array([0.00628857, 0.        , 0.        , 0.        ]), 'numSol': array([50.,  0.,  0.,  0.])}, '6': {'fluxd': array([1.08915047, 0.        , 0.        , 0.        ]), 'fluxdErr': array([0.00726444, 0.        , 0.        , 0.        ]), 'numSol': array([50.,  0.,  0.,  0.])}, '7': {'fluxd': array([1.11309066, 0.        , 0.        , 0.        ]), 'fluxdErr': array([0.00662718, 0.        , 0.        , 0.        ]), 'numSol': array([48.,  0.,  0.,  0.])}, '8': {'fluxd': array([-1., -1., -1., -1.]), 'fluxdErr': array([-1., -1., -1., -1.]), 'numSol': array([-1., -1., -1., -1.])}, '9': {'fluxd': array([-1., -1., -1., -1.]), 'fluxdErr': array([-1., -1., -1., -1.]), 'numSol': array([-1., -1., -1., -1.])}, 'covarMat': array([[ 1.54777982e-05, -6.04964872e-05, -3.03594892e-03],\n",
      "       [-6.04964872e-05,  2.39673949e-03,  2.63448986e-02],\n",
      "       [-3.03594892e-03,  2.63448986e-02,  9.62642782e-01]]), 'fieldName': 'J1033+4116', 'fitFluxd': 1.1932048159091917, 'fitFluxdErr': 0.00232526264616773, 'fitRefFreq': 1684897051.1180224, 'spidx': array([ 0.076715  ,  0.54387264, -0.28540422]), 'spidxerr': array([0.00084633, 0.01053167, 0.2110665 ])}, 'freq': array([-1.000e+00, -1.000e+00, -1.000e+00, -1.000e+00, -1.000e+00,\n",
      "        1.360e+09,  1.424e+09,  1.488e+09, -1.000e+00, -1.000e+00,\n",
      "        1.663e+09,  1.744e+09,  1.808e+09,  1.872e+09,  1.919e+09,\n",
      "        2.016e+09]), 'spwID': array([ 0,  1,  2,  3,  4,  5,  6,  7,  8,  9, 10, 11, 12, 13, 14, 15]), 'spwName': array(['EVLA_L#A0C0#0', 'EVLA_L#A0C0#1', 'EVLA_L#A0C0#2', 'EVLA_L#A0C0#3',\n",
      "       'EVLA_L#A0C0#4', 'EVLA_L#A0C0#5', 'EVLA_L#A0C0#6', 'EVLA_L#A0C0#7',\n",
      "       'EVLA_L#B0D0#8', 'EVLA_L#B0D0#9', 'EVLA_L#B0D0#10',\n",
      "       'EVLA_L#B0D0#11', 'EVLA_L#B0D0#12', 'EVLA_L#B0D0#13',\n",
      "       'EVLA_L#B0D0#14', 'EVLA_L#B0D0#15'], dtype='<U14')}\n"
     ]
    }
   ],
   "source": [
    "import numpy as np\n",
    "\n",
    "fit = np.load(\"/DATA/CARINA_3/kel334/19A-056/19A-056.sb37262953.eb37267948.58744.511782789355/output/phasecal_model_fit_1.npy\", allow_pickle=True)\n",
    "print(fit.keys())"
   ]
  },
  {
   "cell_type": "code",
   "execution_count": null,
   "metadata": {},
   "outputs": [],
   "source": []
  }
 ],
 "metadata": {
  "kernelspec": {
   "display_name": "Python 3",
   "language": "python",
   "name": "python3"
  },
  "language_info": {
   "codemirror_mode": {
    "name": "ipython",
    "version": 3
   },
   "file_extension": ".py",
   "mimetype": "text/x-python",
   "name": "python",
   "nbconvert_exporter": "python",
   "pygments_lexer": "ipython3",
   "version": "3.7.3"
  },
  "vscode": {
   "interpreter": {
    "hash": "96fdb35c527f577477faff27c71f99a6e3f547a6ed96f6e1d6a6d9fb308d81f7"
   }
  }
 },
 "nbformat": 4,
 "nbformat_minor": 2
}
