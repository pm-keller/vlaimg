{
 "cells": [
  {
   "cell_type": "markdown",
   "id": "2a73f75d",
   "metadata": {},
   "source": [
    "# Prior Inspection\n",
    "This notebook provides observation information and plots for identifying RFI contaminated data."
   ]
  },
  {
   "cell_type": "code",
   "execution_count": 1,
   "id": "bbf13073",
   "metadata": {},
   "outputs": [],
   "source": [
    "import os\n",
    "import sys\n",
    "import h5py\n",
    "import yaml\n",
    "import numpy as np\n",
    "from astropy.time import Time\n",
    "import astropy.units as u\n",
    "from ipywidgets import interact\n",
    "\n",
    "import matplotlib.image as mpimg\n",
    "import matplotlib.pyplot as plt\n",
    "import matplotlib as mpl\n",
    "\n",
    "cmap = mpl.cm.viridis  \n",
    "cmap.set_bad(color='red')\n",
    "\n",
    "from IPython.display import Image\n",
    "\n",
    "# read yaml file\n",
    "with open(\"../../input/config.yaml\", \"r\") as file:\n",
    "    conf = yaml.safe_load(file)\n",
    "    \n",
    "sys.path.append(os.path.join(os.curdir, \"../../\"))\n",
    "\n",
    "from vlapy import vladata, inspect"
   ]
  },
  {
   "cell_type": "markdown",
   "id": "6f06fb96",
   "metadata": {},
   "source": [
    "## Obervation Information \n",
    "The data below is the output of CASA's listobs task and can be used to fill in the yaml file \"obs.yaml\", which contains all the parameters for the pipeline."
   ]
  },
  {
   "cell_type": "code",
   "execution_count": 2,
   "id": "98296bf2",
   "metadata": {
    "scrolled": true
   },
   "outputs": [
    {
     "name": "stdout",
     "output_type": "stream",
     "text": [
      "BeginTime\n",
      "58744.51180555556 \n",
      "\n",
      "EndTime\n",
      "58744.537152777775 \n",
      "\n",
      "IntegrationTime\n",
      "2190.0 \n",
      "\n",
      "field_0\n",
      "code :  NONE\n",
      "direction :  {'m0': {'unit': 'rad', 'value': 1.4948845339}, 'm1': {'unit': 'rad', 'value': 0.8700817014000001}, 'refer': 'J2000', 'type': 'direction'}\n",
      "name :  J0542+4951\n",
      "\n",
      "\n",
      "field_1\n",
      "code :  NONE\n",
      "direction :  {'m0': {'unit': 'rad', 'value': 2.7622531831}, 'm1': {'unit': 'rad', 'value': 0.7202694229000001}, 'refer': 'J2000', 'type': 'direction'}\n",
      "name :  J1033+4116\n",
      "\n",
      "\n",
      "field_2\n",
      "code :  NONE\n",
      "direction :  {'m0': {'unit': 'rad', 'value': 2.8307109711}, 'm1': {'unit': 'rad', 'value': 0.8137042526}, 'refer': 'J2000', 'type': 'direction'}\n",
      "name :  QSO J1048+4637\n",
      "\n",
      "\n",
      "field_3\n",
      "code :  NONE\n",
      "direction :  {'m0': {'unit': 'rad', 'value': 3.0145677806}, 'm1': {'unit': 'rad', 'value': 0.6676783576000002}, 'refer': 'J2000', 'type': 'direction'}\n",
      "name :  J1130+3815\n",
      "\n",
      "\n",
      "field_4\n",
      "code :  NONE\n",
      "direction :  {'m0': {'unit': 'rad', 'value': 3.0425255836}, 'm1': {'unit': 'rad', 'value': 0.6253943770000001}, 'refer': 'J2000', 'type': 'direction'}\n",
      "name :  QSO J1137+3549\n",
      "\n",
      "\n",
      "nfields\n",
      "5 \n",
      "\n",
      "numrecords\n",
      "6115824 \n",
      "\n",
      "scan_1\n",
      "BeginTime :  58744.51180555556\n",
      "EndTime :  58744.512453703705\n",
      "FieldId :  0\n",
      "FieldName :  J0542+4951\n",
      "IntegrationTime :  2.0\n",
      "SpwIds :  [ 0  1  2  3  4  5  6  7  8  9 10 11 12 13 14 15]\n",
      "StateId :  0\n",
      "nRow :  157248\n",
      "scanId :  1\n",
      "\n",
      "\n",
      "scan_2\n",
      "BeginTime :  58744.512476851865\n",
      "EndTime :  58744.51798611111\n",
      "FieldId :  0\n",
      "FieldName :  J0542+4951\n",
      "IntegrationTime :  2.0\n",
      "SpwIds :  [ 0  1  2  3  4  5  6  7  8  9 10 11 12 13 14 15]\n",
      "StateId :  1\n",
      "nRow :  1336608\n",
      "scanId :  2\n",
      "\n",
      "\n",
      "scan_3\n",
      "BeginTime :  58744.51800925925\n",
      "EndTime :  58744.520810185175\n",
      "FieldId :  1\n",
      "FieldName :  J1033+4116\n",
      "IntegrationTime :  2.0\n",
      "SpwIds :  [ 0  1  2  3  4  5  6  7  8  9 10 11 12 13 14 15]\n",
      "StateId :  2\n",
      "nRow :  679536\n",
      "scanId :  3\n",
      "\n",
      "\n",
      "scan_4\n",
      "BeginTime :  58744.52083333332\n",
      "EndTime :  58744.52657407407\n",
      "FieldId :  2\n",
      "FieldName :  QSO J1048+4637\n",
      "IntegrationTime :  2.0\n",
      "SpwIds :  [ 0  1  2  3  4  5  6  7  8  9 10 11 12 13 14 15]\n",
      "StateId :  3\n",
      "nRow :  1392768\n",
      "scanId :  4\n",
      "\n",
      "\n",
      "scan_5\n",
      "BeginTime :  58744.52659722223\n",
      "EndTime :  58744.52819444444\n",
      "FieldId :  1\n",
      "FieldName :  J1033+4116\n",
      "IntegrationTime :  2.0\n",
      "SpwIds :  [ 0  1  2  3  4  5  6  7  8  9 10 11 12 13 14 15]\n",
      "StateId :  2\n",
      "nRow :  387504\n",
      "scanId :  5\n",
      "\n",
      "\n",
      "scan_6\n",
      "BeginTime :  58744.528217592604\n",
      "EndTime :  58744.529884259246\n",
      "FieldId :  3\n",
      "FieldName :  J1130+3815\n",
      "IntegrationTime :  2.0\n",
      "SpwIds :  [ 0  1  2  3  4  5  6  7  8  9 10 11 12 13 14 15]\n",
      "StateId :  2\n",
      "nRow :  404352\n",
      "scanId :  6\n",
      "\n",
      "\n",
      "scan_7\n",
      "BeginTime :  58744.52988425926\n",
      "EndTime :  58744.53564814816\n",
      "FieldId :  4\n",
      "FieldName :  QSO J1137+3549\n",
      "IntegrationTime :  2.0\n",
      "SpwIds :  [ 0  1  2  3  4  5  6  7  8  9 10 11 12 13 14 15]\n",
      "StateId :  3\n",
      "nRow :  1398384\n",
      "scanId :  7\n",
      "\n",
      "\n",
      "scan_8\n",
      "BeginTime :  58744.5356712963\n",
      "EndTime :  58744.537152777775\n",
      "FieldId :  3\n",
      "FieldName :  J1130+3815\n",
      "IntegrationTime :  2.0\n",
      "SpwIds :  [ 0  1  2  3  4  5  6  7  8  9 10 11 12 13 14 15]\n",
      "StateId :  2\n",
      "nRow :  359424\n",
      "scanId :  8\n",
      "\n",
      "\n",
      "timeref\n",
      "UTC \n",
      "\n"
     ]
    }
   ],
   "source": [
    "obs = conf[\"obs list\"][0]\n",
    "root = os.path.join(conf[\"root\"], f\"{obs}\")\n",
    "name = obs.split(\".\")[0]\n",
    "\n",
    "ms = os.path.join(root, f\"{obs}_hanning.ms\")\n",
    "vladata.listobs(ms)"
   ]
  },
  {
   "cell_type": "markdown",
   "id": "8cd72040",
   "metadata": {},
   "source": [
    "### Array Layout"
   ]
  },
  {
   "cell_type": "code",
   "execution_count": 3,
   "id": "7c0b5d79",
   "metadata": {},
   "outputs": [
    {
     "data": {
      "image/png": "[encoded data removed]",
      "text/plain": [
       "<IPython.core.display.Image object>"
      ]
     },
     "execution_count": 3,
     "metadata": {},
     "output_type": "execute_result"
    }
   ],
   "source": [
    "Image(filename=root + \"/plots/obsplots/antlayout.png\")"
   ]
  },
  {
   "cell_type": "markdown",
   "id": "6b69869c",
   "metadata": {},
   "source": [
    "### Plot Elevation vs. Time\n",
    "Observations low in elevation might see more RFI. The plot is colorised by field. Each target field is in between two phase calibrators."
   ]
  },
  {
   "cell_type": "code",
   "execution_count": null,
   "id": "902296f4",
   "metadata": {},
   "outputs": [],
   "source": [
    "Image(filename=root + \"/plots/obsplots/elevation_vs_time.png\")"
   ]
  },
  {
   "cell_type": "markdown",
   "id": "429d3773",
   "metadata": {},
   "source": [
    "## VLA Deterministic Flags and Manual Flags\n",
    "These include antennas not on source, shadowed antennas, scans with non-relevant intents, autocorrelations, edge channels of spectral windows, edge channels of the baseband, clipping absolute zero values produced by the correlator and the first few integrations of a scan (quacking). Manual flags are also applied for data known to be bad (RFI, obs reports). Below is a summary of the flags before and after applying the deterministic flags. Use the flagging frequency to find a suitable reference antenna and specify it in the yaml file."
   ]
  },
  {
   "cell_type": "code",
   "execution_count": null,
   "id": "10cbb568",
   "metadata": {
    "scrolled": true
   },
   "outputs": [],
   "source": [
    "summary_before = np.load(root + \"/output/detflag_summary_before.npy\", allow_pickle='TRUE').item()\n",
    "summary_after = np.load(root + \"/output/detflag_summary_after.npy\", allow_pickle='TRUE').item()\n",
    "\n",
    "# print flagging summary\n",
    "def print_summary(item):\n",
    "    for subitem in summary_before[item]:\n",
    "        print(f\"{item} {subitem}\")\n",
    "        print(\n",
    "            \"Before: {:.4f}, After: {:.4f}\".format(\n",
    "                100.0 * summary_before[item][subitem][\"flagged\"] / summary_before[item][subitem][\"total\"],\n",
    "                100.0 * summary_after[item][subitem][\"flagged\"] / summary_after[item][subitem][\"total\"],\n",
    "            )\n",
    "        )\n",
    "        print(\"\")\n",
    "        \n",
    "print(\"Flag occupancy (percent) before and after deterministic flags:\\n\")\n",
    "\n",
    "print_summary(\"field\")\n",
    "print_summary(\"scan\")\n",
    "print_summary(\"antenna\")\n",
    "print_summary(\"spw\")"
   ]
  },
  {
   "cell_type": "markdown",
   "id": "31a142b6",
   "metadata": {},
   "source": [
    "### Plot Online Flags\n",
    "Plot flaggingreason vs. time. This shows which antennas are flagged due to focus errors, subreflector errors and antenna not on source. This plot can help identify suitable reference antennas."
   ]
  },
  {
   "cell_type": "code",
   "execution_count": null,
   "id": "482498fa",
   "metadata": {
    "scrolled": true
   },
   "outputs": [],
   "source": [
    "if os.path.exists(root+\"/plots/dataplots/flaggingreason_vs_time.png\"):\n",
    "    Image(filename=root+\"/plots/dataplots/flaggingreason_vs_time.png\")"
   ]
  },
  {
   "cell_type": "markdown",
   "id": "6f59bdd7",
   "metadata": {},
   "source": [
    "### Plot Antenna Data Stream\n",
    "If an antenna has missing data, it should not be used as a reference."
   ]
  },
  {
   "cell_type": "code",
   "execution_count": null,
   "id": "1afb95ff",
   "metadata": {},
   "outputs": [],
   "source": [
    "Image(filename=root + \"/plots/obsplots/data_stream.png\")"
   ]
  },
  {
   "cell_type": "markdown",
   "id": "5ba7f983",
   "metadata": {},
   "source": [
    "## Find Dead Antennas\n",
    "Antennas that have low power should be flagged. This is also a good time to check for suitable reference antennas."
   ]
  },
  {
   "cell_type": "code",
   "execution_count": null,
   "id": "e77db85d",
   "metadata": {},
   "outputs": [],
   "source": [
    "def plot_dead_ants(ant):\n",
    "    plotfile = root + f\"/plots/dataplots/find_dead_ants_amp_vs_freq_ant_{ant}.png\"\n",
    "    img = mpimg.imread(plotfile)\n",
    "    plt.imshow(img)\n",
    "    \n",
    "interact(plot_dead_ants, ant=(1, 26))\n",
    "    "
   ]
  },
  {
   "cell_type": "markdown",
   "id": "1b4adf5b",
   "metadata": {},
   "source": [
    "## RFI Inspection\n",
    "The visibility amplitudes are first averaged across baselines and polarisation products. A modified Z-score is then computed across time as $Z_i = \\frac{x_i - \\mathrm{med}\\{x_i\\}_i}{\\sigma_\\mathrm{MAD}}$, \n",
    "\n",
    "where $\\sigma_\\mathrm{MAD} = \\mathrm{med}\\{\\left|x_i - \\mathrm{med}\\{x_i\\}_i\\right|\\}$ is the Median Absolute Deviation (MAD), and $x_i$ is the data (visibility amplitude) of the $i^\\mathrm{th}$ integration.\n",
    "\n",
    "The resulting Z-score is a spectrogram with dimensions of time and frequency. It can further be averaged across one of these dimensions to obtain a time series or a spectrum, which are useful for identifying broadband and persistent narrowband RFI respectively.\n",
    "\n",
    "Use this to identify one clean channel per spectral window which will be used for the initial gain calibration."
   ]
  },
  {
   "cell_type": "markdown",
   "id": "c2bd53a8",
   "metadata": {},
   "source": [
    "#### Load Data"
   ]
  },
  {
   "cell_type": "code",
   "execution_count": null,
   "id": "ba869d8d",
   "metadata": {},
   "outputs": [],
   "source": [
    "with h5py.File(root + f\"/output/z_score_data.h5\", \"r\") as f:\n",
    "    z_score = f[\"z-score avg\"][()]\n",
    "    flags = f[\"flags avg\"][()]\n",
    "    freq_array = f[\"freq array\"][()]\n",
    "    time_array = f[\"time array\"][()]\n",
    "    ant_pairs = f[\"ant pairs\"][()]\n",
    "    dt = f[\"dt\"][()]\n",
    "\n",
    "# Load time integrations per scan\n",
    "ntimes_file = os.path.join(root, f\"output/ntimes.txt\")\n",
    "ntimes = np.loadtxt(ntimes_file).astype(int)\n",
    "\n",
    "# time array\n",
    "tisot = np.unique(Time(time_array, format=\"jd\", scale=\"utc\").isot)\n",
    "\n",
    "z_score = np.ma.masked_array(z_score, mask=flags)"
   ]
  },
  {
   "cell_type": "markdown",
   "id": "a755c5e5",
   "metadata": {},
   "source": [
    "#### Plot"
   ]
  },
  {
   "cell_type": "code",
   "execution_count": null,
   "id": "8d80feef",
   "metadata": {
    "scrolled": false
   },
   "outputs": [],
   "source": [
    "%matplotlib notebook\n",
    "fig, ax = plt.subplots(1, 1)\n",
    "ax = inspect.plot_time_series(tisot, np.ma.median(z_score, axis=1), ax, plot_masked=True)\n",
    "ax.set_ylabel(\"Averaged Z-Score (unitless)\")\n",
    "ax.set_xticks(tisot[::100])\n",
    "plt.tight_layout()\n",
    "plt.show()"
   ]
  },
  {
   "cell_type": "code",
   "execution_count": null,
   "id": "20492de1",
   "metadata": {
    "scrolled": false
   },
   "outputs": [],
   "source": [
    "%matplotlib inline\n",
    "fig, ax = plt.subplots(figsize=(8, 8))\n",
    "ax, im = inspect.plot_wf(freq_array, z_score, 2, ntimes, vmin=0.5, vmax=2, cmap=cmap, ax=ax, plot_masked=True)\n",
    "fig.colorbar(im, orientation=\"horizontal\", label=\"Normalised Averaged Visibility Amplitude\")"
   ]
  },
  {
   "cell_type": "code",
   "execution_count": null,
   "id": "f4a895d5",
   "metadata": {
    "scrolled": false
   },
   "outputs": [],
   "source": [
    "def plot_wf_spw(i):\n",
    "    inspect.plot_wf_spw(freq_array, z_score, i, 2, ntimes, cmap=cmap, plot_masked=True)\n",
    "    \n",
    "interact(plot_wf_spw, i=(0, 15))"
   ]
  },
  {
   "cell_type": "code",
   "execution_count": null,
   "id": "41a1c165",
   "metadata": {},
   "outputs": [],
   "source": []
  }
 ],
 "metadata": {
  "kernelspec": {
   "display_name": "vlaimg3.8",
   "language": "python",
   "name": "vlaimg3.8"
  },
  "language_info": {
   "codemirror_mode": {
    "name": "ipython",
    "version": 3
   },
   "file_extension": ".py",
   "mimetype": "text/x-python",
   "name": "python",
   "nbconvert_exporter": "python",
   "pygments_lexer": "ipython3",
   "version": "3.8.16"
  }
 },
 "nbformat": 4,
 "nbformat_minor": 5
}
