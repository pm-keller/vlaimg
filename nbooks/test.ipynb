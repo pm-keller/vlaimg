{
 "cells": [
  {
   "cell_type": "code",
   "execution_count": 18,
   "metadata": {},
   "outputs": [],
   "source": [
    "import os\n",
    "import sys\n",
    "import yaml\n",
    "\n",
    "import casatools\n",
    "\n",
    "sys.path.append(os.getcwd() + \"/../\")\n"
   ]
  },
  {
   "cell_type": "code",
   "execution_count": 19,
   "metadata": {},
   "outputs": [],
   "source": [
    "# read yaml configuration file\n",
    "with open(\"../input/config.yaml\", \"r\") as file:\n",
    "    conf = yaml.safe_load(file)"
   ]
  },
  {
   "cell_type": "code",
   "execution_count": 20,
   "metadata": {},
   "outputs": [
    {
     "name": "stderr",
     "output_type": "stream",
     "text": [
      "2023-02-16 05:42:15\tINFO\tmsmetadata_cmpt.cc::open\tPerforming internal consistency checks on ../../19A-056.sb37262953.eb37267948.58744.511782789355/19A-056.sb37262953.eb37267948.58744.511782789355.ms...\n",
      "2023-02-16 05:42:16\tINFO\tmsmetadata_cmpt.cc::open\tPerforming internal consistency checks on ../../19A-056.sb37163380.eb37257903.58741.80710626158/19A-056.sb37163380.eb37257903.58741.80710626158.ms...\n",
      "2023-02-16 05:42:18\tINFO\tmsmetadata_cmpt.cc::open\tPerforming internal consistency checks on ../../19A-056.sb37231614.eb37257802.58740.9750600463/19A-056.sb37231614.eb37257802.58740.9750600463.ms...\n",
      "2023-02-16 05:42:19\tINFO\tmsmetadata_cmpt.cc::open\tPerforming internal consistency checks on ../../19A-056.sb37061537.eb37180589.58730.4308771875/19A-056.sb37061537.eb37180589.58730.4308771875.ms...\n",
      "2023-02-16 05:42:21\tINFO\tmsmetadata_cmpt.cc::open\tPerforming internal consistency checks on ../../19A-056.sb37231384.eb37240353.58739.626953125/19A-056.sb37231384.eb37240353.58739.626953125.ms...\n",
      "2023-02-16 05:42:24\tINFO\tmsmetadata_cmpt.cc::open\tPerforming internal consistency checks on ../../19A-056.sb37160606.eb37213019.58734.43735733796/19A-056.sb37160606.eb37213019.58734.43735733796.ms...\n",
      "2023-02-16 05:42:26\tINFO\tmsmetadata_cmpt.cc::open\tPerforming internal consistency checks on ../../19A-056.sb37160244.eb37257497.58740.25152430555/19A-056.sb37160244.eb37257497.58740.25152430555.ms...\n"
     ]
    }
   ],
   "source": [
    "for obs in conf[\"obs list\"]:\n",
    "    ms = f\"../../{obs}/{obs}.ms\"\n",
    "\n",
    "    msmd = casatools.msmetadata()\n",
    "\n",
    "    msmd.open(ms)\n",
    "    field = msmd.fieldsforintent(\"CALIBRATE_FLUX#UNSPECIFIED\")\n",
    "    print(msmd.namesforfields(field))\n"
   ]
  },
  {
   "cell_type": "code",
   "execution_count": 4,
   "metadata": {},
   "outputs": [
    {
     "name": "stdout",
     "output_type": "stream",
     "text": [
      "2019-09-18T12:16:58.700 2019-09-18T12:53:30.250 2019-09-01T03:13:25.000 2019-09-01T06:44:52.000\n"
     ]
    }
   ],
   "source": []
  },
  {
   "cell_type": "code",
   "execution_count": null,
   "metadata": {},
   "outputs": [],
   "source": []
  }
 ],
 "metadata": {
  "kernelspec": {
   "display_name": "vlaimg3.8",
   "language": "python",
   "name": "python3"
  },
  "language_info": {
   "codemirror_mode": {
    "name": "ipython",
    "version": 3
   },
   "file_extension": ".py",
   "mimetype": "text/x-python",
   "name": "python",
   "nbconvert_exporter": "python",
   "pygments_lexer": "ipython3",
   "version": "3.8.16"
  },
  "orig_nbformat": 4,
  "vscode": {
   "interpreter": {
    "hash": "96fdb35c527f577477faff27c71f99a6e3f547a6ed96f6e1d6a6d9fb308d81f7"
   }
  }
 },
 "nbformat": 4,
 "nbformat_minor": 2
}
